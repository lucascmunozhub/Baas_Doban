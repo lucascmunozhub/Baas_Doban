{
 "cells": [
  {
   "cell_type": "code",
   "execution_count": null,
   "metadata": {
    "vscode": {
     "languageId": "plaintext"
    }
   },
   "outputs": [],
   "source": [
    "from fastapi import FastAPI, Request, HTTPException\n",
    "import asyncio\n",
    "import json\n",
    "import logging\n",
    "from datetime import datetime\n",
    "\n",
    "app = FastAPI()\n",
    "\n",
    "# Configuração de logging\n",
    "logging.basicConfig(level=logging.INFO, format=\"%(asctime)s - %(levelname)s - %(message)s\")\n",
    "\n",
    "# Simulação de um banco de dados em memória para armazenar callbacks recebidos\n",
    "CALLBACK_STORAGE = []\n",
    "\n",
    "@app.post(\"/callbacks\")\n",
    "async def receive_callback(request: Request):\n",
    "    \"\"\"\n",
    "    Endpoint que recebe callbacks da BMP.\n",
    "    \"\"\"\n",
    "    try:\n",
    "        # Lê os dados recebidos\n",
    "        callback_data = await request.json()\n",
    "\n",
    "        # Validação básica\n",
    "        if \"Header\" not in callback_data or \"Body\" not in callback_data:\n",
    "            raise HTTPException(status_code=400, detail=\"Formato inválido\")\n",
    "\n",
    "        # Armazena a transação para processamento assíncrono\n",
    "        CALLBACK_STORAGE.append(callback_data)\n",
    "\n",
    "        # Log para monitoramento\n",
    "        logging.info(f\"Callback recebido: {json.dumps(callback_data, indent=2, ensure_ascii=False)}\")\n",
    "\n",
    "        # Retorna sucesso\n",
    "        return {\"status\": \"200 OK\", \"message\": \"Callback recebido com sucesso\"}\n",
    "\n",
    "    except Exception as e:\n",
    "        logging.error(f\"Erro ao processar callback: {str(e)}\")\n",
    "        raise HTTPException(status_code=400, detail=\"Erro no processamento do callback\")\n",
    "\n",
    "# Simulação de processamento assíncrono dos callbacks recebidos\n",
    "async def process_callbacks():\n",
    "    while True:\n",
    "        if CALLBACK_STORAGE:\n",
    "            callback = CALLBACK_STORAGE.pop(0)\n",
    "            logging.info(f\"Processando callback: {callback}\")\n",
    "            # Simule um delay de processamento\n",
    "            await asyncio.sleep(2)\n",
    "            logging.info(f\"Callback {callback['Body']['IDTransacao']} processado com sucesso!\")\n",
    "        await asyncio.sleep(1)  # Intervalo entre verificações\n",
    "\n",
    "# Inicia a tarefa assíncrona ao subir o servidor\n",
    "@app.on_event(\"startup\")\n",
    "async def startup_event():\n",
    "    asyncio.create_task(process_callbacks())"
   ]
  }
 ],
 "metadata": {
  "kernelspec": {
   "display_name": ".venv",
   "language": "python",
   "name": "python3"
  },
  "language_info": {
   "codemirror_mode": {
    "name": "ipython",
    "version": 3
   },
   "file_extension": ".py",
   "mimetype": "text/x-python",
   "name": "python",
   "nbconvert_exporter": "python",
   "pygments_lexer": "ipython3",
   "version": "3.13.2"
  }
 },
 "nbformat": 4,
 "nbformat_minor": 2
}
