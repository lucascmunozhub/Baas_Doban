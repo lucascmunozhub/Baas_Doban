{
 "cells": [
  {
   "cell_type": "code",
   "execution_count": null,
   "metadata": {},
   "outputs": [],
   "source": [
    "# Data manipulation and analysis\n",
    "import pandas as pd\n",
    "import numpy as np\n",
    "\n",
    "# Database connection\n",
    "import psycopg2\n",
    "from sqlalchemy import create_engine\n",
    "\n",
    "# Plotting and visualization\n",
    "import matplotlib.pyplot as plt\n",
    "\n",
    "# Excel file handling\n",
    "from openpyxl import Workbook\n",
    "from openpyxl.styles import NamedStyle, Font, Alignment, numbers, PatternFill\n",
    "from openpyxl.utils.dataframe import dataframe_to_rows\n",
    "\n",
    "# Financial calculations\n",
    "import numpy_financial as npf\n",
    "\n",
    "# HTTP requests\n",
    "import requests\n",
    "\n",
    "# Date and time manipulation\n",
    "from datetime import datetime, timedelta\n",
    "\n",
    "# Suppress warnings\n",
    "import warnings\n",
    "warnings.filterwarnings('ignore')"
   ]
  },
  {
   "cell_type": "code",
   "execution_count": null,
   "metadata": {},
   "outputs": [],
   "source": [
    "data_ref = pd.Timestamp('2025-01-31 00:00:00')"
   ]
  },
  {
   "cell_type": "markdown",
   "metadata": {},
   "source": [
    "Tokens"
   ]
  },
  {
   "cell_type": "code",
   "execution_count": null,
   "metadata": {},
   "outputs": [],
   "source": [
    "# Endpoint de geração de token\n",
    "url = \"https://plataforma.bigdatacorp.com.br/tokens/gerar\"\n",
    "\n",
    "# Parâmetros obrigatórios\n",
    "payload = {\n",
    "    \"login\": \"otávio.fernandes\",\n",
    "    \"password\": \"svezL46QdD@QPqA\",\n",
    "    \"expires\": 24\n",
    "}\n",
    "\n",
    "# Cabeçalhos da requisição\n",
    "headers = {\n",
    "    \"accept\": \"application/json\",\n",
    "    \"content-type\": \"application/json\"\n",
    "}\n",
    "\n",
    "# Fazendo a requisição POST para gerar o token\n",
    "response = requests.post(url, json=payload, headers=headers)\n",
    "\n",
    "# Verificando a resposta e extraindo o token\n",
    "if response.status_code == 200:\n",
    "    token_data = response.json()  # Converte a resposta JSON em um dicionário\n",
    "    token_jwt = token_data.get(\"token\")  # Pega o valor do token\n",
    "    token_id = token_data.get(\"tokenID\")\n",
    "else:\n",
    "    print(\"Erro ao gerar o token:\", response.status_code, response.text)\n"
   ]
  },
  {
   "cell_type": "code",
   "execution_count": null,
   "metadata": {},
   "outputs": [],
   "source": [
    "cpfs = [\"091.742.726-24\"]"
   ]
  },
  {
   "cell_type": "markdown",
   "metadata": {},
   "source": [
    "Ler de um Excel"
   ]
  },
  {
   "cell_type": "code",
   "execution_count": null,
   "metadata": {},
   "outputs": [],
   "source": [
    "def read_excel_to_list(file_path, sheet_name, column_name):\n",
    "    # Read the Excel file\n",
    "    df = pd.read_excel(file_path, sheet_name=sheet_name)\n",
    "\n",
    "    # Convert the specified column to a list\n",
    "    dados_coletados = df[column_name].tolist()\n",
    "    return dados_coletados\n",
    "\n",
    "if __name__ == \"__main__\":\n",
    "    file_path = \"path/to/your/excel/file.xlsx\"  # Update with your file path\n",
    "    sheet_name = \"Sheet1\"  # Update with your sheet name\n",
    "    column_name = \"ColumnName\"  # Update with your column name\n",
    "\n",
    "    dados_coletados = read_excel_to_list(file_path, sheet_name, column_name)\n",
    "    print(dados_coletados)"
   ]
  },
  {
   "cell_type": "code",
   "execution_count": 1,
   "metadata": {},
   "outputs": [],
   "source": [
    "!openssl genrsa -out private.pem 2048"
   ]
  },
  {
   "cell_type": "code",
   "execution_count": 4,
   "metadata": {},
   "outputs": [
    {
     "name": "stdout",
     "output_type": "stream",
     "text": [
      "c:\\Users\\Lucas\\Documents\\Venture Studio\\Doban\\Python - Doban\\.venv\\Scripts\n"
     ]
    }
   ],
   "source": [
    "import os\n",
    "print(os.getcwd())"
   ]
  },
  {
   "cell_type": "code",
   "execution_count": 3,
   "metadata": {},
   "outputs": [
    {
     "name": "stderr",
     "output_type": "stream",
     "text": [
      "writing RSA key\n"
     ]
    }
   ],
   "source": [
    "!openssl rsa -in private.pem -pubout > public.pem"
   ]
  },
  {
   "cell_type": "markdown",
   "metadata": {},
   "source": [
    "Criar Conta"
   ]
  },
  {
   "cell_type": "code",
   "execution_count": null,
   "metadata": {},
   "outputs": [],
   "source": [
    "import requests\n",
    "\n",
    "url = \"https://api.ext.dbs.moneyp.dev.br/api/v2/Conta\"\n",
    "\n",
    "payload = {\n",
    "    \"numeroBanco\": \"<string>\",\n",
    "    \"numeroAgencia\": \"<string>\",\n",
    "    \"numeroConta\": \"<string>\",\n",
    "    \"digitoConta\": \"<string>\",\n",
    "    \"descricao\": \"<string>\",\n",
    "    \"tipoGeracaoNumeroConta\": 0,\n",
    "    \"modCobrTaxa\": 0,\n",
    "    \"tipoConta\": 123,\n",
    "    \"dadosCorrentista\": {\n",
    "        \"documentoFederal\": \"<string>\",\n",
    "        \"nome\": \"<string>\",\n",
    "        \"tipoPessoa\": 123,\n",
    "        \"situacao\": 123\n",
    "    },\n",
    "    \"dadosContato\": {\n",
    "        \"email\": \"<string>\",\n",
    "        \"telefoneFixo1\": \"<string>\",\n",
    "        \"telefoneFixo2\": \"<string>\",\n",
    "        \"telefoneCelular1\": \"<string>\",\n",
    "        \"telefoneCelular2\": \"<string>\",\n",
    "        \"telefoneFax\": \"<string>\",\n",
    "        \"paginaWeb\": \"<string>\"\n",
    "    },\n",
    "    \"dadosEndereco\": {\n",
    "        \"cep\": \"<string>\",\n",
    "        \"logradouro\": \"<string>\",\n",
    "        \"nroLogradouro\": \"<string>\",\n",
    "        \"bairro\": \"<string>\",\n",
    "        \"complemento\": \"<string>\",\n",
    "        \"cidade\": \"<string>\",\n",
    "        \"uf\": \"<string>\",\n",
    "        \"tipoEndereco\": 1,\n",
    "        \"tipoResidencia\": 123,\n",
    "        \"enderecoDesde\": \"2023-11-07T05:31:56Z\",\n",
    "        \"enderecoPrincipal\": True,\n",
    "        \"enderecoCorrespondencia\": True,\n",
    "        \"verificadoInLoco\": True\n",
    "    },\n",
    "    \"dadosPF\": {\n",
    "        \"apelido\": \"<string>\",\n",
    "        \"rg\": \"<string>\",\n",
    "        \"rgOrgao\": \"<string>\",\n",
    "        \"rguf\": \"<string>\",\n",
    "        \"rgData\": \"2023-11-07T05:31:56Z\",\n",
    "        \"dtNasc\": \"2023-11-07T05:31:56Z\",\n",
    "        \"sexo\": \"<string>\",\n",
    "        \"nacionalidade\": \"<string>\",\n",
    "        \"naturalDeCidade\": \"<string>\",\n",
    "        \"naturalDeUF\": \"<string>\",\n",
    "        \"estadoCivil\": 1,\n",
    "        \"escolaridade\": 1,\n",
    "        \"nomePai\": \"<string>\",\n",
    "        \"nomeMae\": \"<string>\",\n",
    "        \"nomeConjuge\": \"<string>\",\n",
    "        \"dtNascConjuge\": \"2023-11-07T05:31:56Z\",\n",
    "        \"cpfConjuge\": \"<string>\",\n",
    "        \"rgConjuge\": \"<string>\",\n",
    "        \"rgOrgaoConjuge\": \"<string>\",\n",
    "        \"rgufConjuge\": \"<string>\",\n",
    "        \"rgDataConjuge\": \"2023-11-07T05:31:56Z\",\n",
    "        \"nomeArquivoIdentificacao\": \"<string>\",\n",
    "        \"arquivoIdentificacao\": \"<string>\",\n",
    "        \"indicadorPEP\": 1\n",
    "    },\n",
    "    \"dadosPJ\": {\n",
    "        \"nomeFantasia\": \"<string>\",\n",
    "        \"documentoEstadual\": \"<string>\",\n",
    "        \"documentoMunicipal\": \"<string>\",\n",
    "        \"dtAberturaEmpresa\": \"2023-11-07T05:31:56Z\",\n",
    "        \"nomeResponsavelEmpresa\": \"<string>\",\n",
    "        \"cpfResponsavelEmpresa\": \"<string>\",\n",
    "        \"rgResponsavelEmpresa\": \"<string>\",\n",
    "        \"nomeArquivoContratoSocial\": \"<string>\",\n",
    "        \"arquivoContratoSocial\": \"<string>\"\n",
    "    },\n",
    "    \"modeloConta\": 1\n",
    "}\n",
    "headers = {\n",
    "    \"IdempotencyKey\": \"<idempotencykey>\",\n",
    "    \"IgnoraHandshake\": \"<ignorahandshake>\",\n",
    "    \"Authorization\": \"<api-key>\",\n",
    "    \"Content-Type\": \"application/json\"\n",
    "}\n",
    "\n",
    "response = requests.request(\"POST\", url, json=payload, headers=headers)\n",
    "\n",
    "print(response.text)"
   ]
  },
  {
   "cell_type": "markdown",
   "metadata": {},
   "source": [
    "BMP - Consulta Saldo"
   ]
  },
  {
   "cell_type": "code",
   "execution_count": null,
   "metadata": {},
   "outputs": [],
   "source": [
    "import requests\n",
    "\n",
    "url = \"https://api.ext.dbs.moneyp.dev.br/api/Conta/Saldo\"\n",
    "\n",
    "payload = {\n",
    "    \"NumeroBanco\": \"<string>\",\n",
    "    \"Conta.Agencia\": \"<string>\",\n",
    "    \"Conta.AgenciaDigito\": \"<string>\",\n",
    "    \"Conta.Conta\": \"<string>\",\n",
    "    \"Conta.ContaDigito\": \"<string>\",\n",
    "    \"Conta.ContaPgto\": \"<string>\",\n",
    "    \"Conta.TipoConta\": 123,\n",
    "    \"Conta.ModeloConta\": 123\n",
    "}\n",
    "\n",
    "headers = {\"Authorization\": \"<api-key>\"}\n",
    "\n",
    "response = requests.request(\"GET\", url, headers=headers)\n",
    "\n",
    "print(response.text)\n",
    "\n",
    "Response\n",
    "{\n",
    "  \"sucesso\": true,\n",
    "  \"mensagem\": \"<string>\",\n",
    "  \"dtUltAtualizacao\": \"2023-11-07T05:31:56Z\",\n",
    "  \"vlrSaldo\": 123,\n",
    "  \"vlrBloqueado\": 123,\n",
    "  \"vlrAgendado\": 123\n",
    "}\n"
   ]
  },
  {
   "cell_type": "markdown",
   "metadata": {},
   "source": [
    "Transferência entre contas BMP"
   ]
  },
  {
   "cell_type": "code",
   "execution_count": null,
   "metadata": {},
   "outputs": [],
   "source": [
    "import requests\n",
    "\n",
    "url = \"https://api.ext.dbs.moneyp.dev.br/api/TransferenciaEntreContas\"\n",
    "\n",
    "payload = {\n",
    "    \"origem\": {\n",
    "        \"agencia\": \"<string>\",\n",
    "        \"agenciaDigito\": \"<string>\",\n",
    "        \"conta\": \"<string>\",\n",
    "        \"contaDigito\": \"<string>\",\n",
    "        \"contaPgto\": \"<string>\",\n",
    "        \"tipoConta\": 1,\n",
    "        \"modeloConta\": 1\n",
    "    },\n",
    "    \"destino\": {\n",
    "        \"agencia\": \"<string>\",\n",
    "        \"agenciaDigito\": \"<string>\",\n",
    "        \"conta\": \"<string>\",\n",
    "        \"contaDigito\": \"<string>\",\n",
    "        \"contaPgto\": \"<string>\",\n",
    "        \"tipoConta\": 1,\n",
    "        \"modeloConta\": 1\n",
    "    },\n",
    "    \"vlrTransacao\": 123,\n",
    "    \"finlddCli\": 123,\n",
    "    \"codOperacaoCli\": \"<string>\",\n",
    "    \"descCliente\": \"<string>\"\n",
    "}\n",
    "headers = {\n",
    "    \"IdempotencyKey\": \"<idempotencykey>\",\n",
    "    \"IgnoraHandshake\": \"<ignorahandshake>\",\n",
    "    \"Authorization\": \"<api-key>\",\n",
    "    \"Content-Type\": \"application/json\"\n",
    "}\n",
    "\n",
    "response = requests.request(\"POST\", url, json=payload, headers=headers)\n",
    "\n",
    "print(response.text)"
   ]
  },
  {
   "cell_type": "markdown",
   "metadata": {},
   "source": [
    "TED para outros bancos"
   ]
  },
  {
   "cell_type": "code",
   "execution_count": null,
   "metadata": {},
   "outputs": [],
   "source": [
    "import requests\n",
    "\n",
    "url = \"https://api.ext.dbs.moneyp.dev.br/api/TransferenciaOutroBanco\"\n",
    "\n",
    "payload = {\n",
    "    \"origem\": {\n",
    "        \"agencia\": \"<string>\",\n",
    "        \"agenciaDigito\": \"<string>\",\n",
    "        \"conta\": \"<string>\",\n",
    "        \"contaDigito\": \"<string>\",\n",
    "        \"contaPgto\": \"<string>\",\n",
    "        \"tipoConta\": 1,\n",
    "        \"modeloConta\": 1\n",
    "    },\n",
    "    \"favorecido\": {\n",
    "        \"documentoFederal\": \"<string>\",\n",
    "        \"nome\": \"<string>\",\n",
    "        \"numeroBanco\": 123,\n",
    "        \"conta\": {\n",
    "            \"agencia\": \"<string>\",\n",
    "            \"agenciaDigito\": \"<string>\",\n",
    "            \"conta\": \"<string>\",\n",
    "            \"contaDigito\": \"<string>\",\n",
    "            \"contaPgto\": \"<string>\",\n",
    "            \"tipoConta\": 1,\n",
    "            \"modeloConta\": 1\n",
    "        }\n",
    "    },\n",
    "    \"vlrTransacao\": 123,\n",
    "    \"finlddIF\": 123,\n",
    "    \"tipoProcessamento\": 1,\n",
    "    \"codOperacaoCli\": \"<string>\",\n",
    "    \"descCliente\": \"<string>\"\n",
    "}\n",
    "headers = {\n",
    "    \"IdempotencyKey\": \"<idempotencykey>\",\n",
    "    \"IgnoraHandshake\": \"<ignorahandshake>\",\n",
    "    \"Authorization\": \"<api-key>\",\n",
    "    \"Content-Type\": \"application/json\"\n",
    "}\n",
    "\n",
    "response = requests.request(\"POST\", url, json=payload, headers=headers)\n",
    "\n",
    "print(response.text)"
   ]
  },
  {
   "cell_type": "code",
   "execution_count": null,
   "metadata": {},
   "outputs": [],
   "source": [
    "# URL da API\n",
    "url = \"https://plataforma.bigdatacorp.com.br/pessoas\"\n",
    "\n",
    "# Cabeçalhos da requisição\n",
    "headers = {\n",
    "    \"accept\": \"application/json\",\n",
    "    \"content-type\": \"application/json\",\n",
    "    \"AccessToken\": token_jwt,\n",
    "    \"TokenId\": token_id\n",
    "}\n",
    "\n",
    "# Lista para armazenar os dados coletados\n",
    "dados_coletados = []\n",
    "\n",
    "# Loop para consultar cada CPF\n",
    "for cpf in cpfs:\n",
    "    # Payload para dados básicos\n",
    "    payload_basic = {\n",
    "        \"Datasets\": \"basic_data\",\n",
    "        \"q\": f\"doc{{{cpf}}}\",\n",
    "        \"Limit\": 1,\n",
    "        \"Fields\": [\n",
    "            \"BasicData.TaxIdNumber\",\n",
    "            \"BasicData.Gender\",\n",
    "            \"BasicData.Age\",\n",
    "            \"BasicData.TaxIdFiscalRegion\"\n",
    "        ]\n",
    "    }\n",
    "\n",
    "    # Fazendo a requisição para dados básicos\n",
    "    response_basic = requests.post(url, json=payload_basic, headers=headers)\n",
    "\n",
    "    if response_basic.status_code == 200:\n",
    "        data_basic = response_basic.json()\n",
    "        \n",
    "        if \"Result\" in data_basic and data_basic[\"Result\"]:\n",
    "            result_basic = data_basic[\"Result\"][0][\"BasicData\"]\n",
    "            cpf_valor = result_basic.get(\"TaxIdNumber\")\n",
    "            gender = result_basic.get(\"Gender\")\n",
    "            age = result_basic.get(\"Age\")\n",
    "            local = result_basic.get(\"TaxIdFiscalRegion\")\n",
    "        else:\n",
    "            cpf_valor, gender, age, local = cpf, None, None, None\n",
    "    else:\n",
    "        cpf_valor, gender, age, local = cpf, None, None, None\n",
    "\n",
    "    #Adicionando os dados coletados à lista\n",
    "    dados_coletados.append({\n",
    "        \"cpf\": cpf_valor,\n",
    "        \"gender\": gender,\n",
    "        \"age\": age,\n",
    "        \"local\": local\n",
    "    })\n",
    "\n",
    "# Criando o DataFrame final com todas as informações coletadas\n",
    "dados_geral = pd.DataFrame(dados_coletados)"
   ]
  },
  {
   "cell_type": "code",
   "execution_count": null,
   "metadata": {},
   "outputs": [
    {
     "data": {
      "text/plain": [
       "           cpf gender  age local\n",
       "0  09174272624      F   29    MG\n"
      ]
     },
     "metadata": {},
     "output_type": "display_data"
    }
   ],
   "source": [
    "dados_geral"
   ]
  }
 ],
 "metadata": {
  "kernelspec": {
   "display_name": ".venv",
   "language": "python",
   "name": "python3"
  },
  "language_info": {
   "codemirror_mode": {
    "name": "ipython",
    "version": 3
   },
   "file_extension": ".py",
   "mimetype": "text/x-python",
   "name": "python",
   "nbconvert_exporter": "python",
   "pygments_lexer": "ipython3",
   "version": "3.13.2"
  }
 },
 "nbformat": 4,
 "nbformat_minor": 2
}
