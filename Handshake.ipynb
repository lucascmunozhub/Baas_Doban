{
 "cells": [
  {
   "cell_type": "code",
   "execution_count": null,
   "metadata": {
    "vscode": {
     "languageId": "plaintext"
    }
   },
   "outputs": [],
   "source": [
    "from fastapi import FastAPI, Request, HTTPException\n",
    "import hmac\n",
    "import hashlib\n",
    "import json\n",
    "import os\n",
    "\n",
    "app = FastAPI()\n",
    "\n",
    "# Defina a chave HMAC compartilhada com a BMP\n",
    "HMAC_SECRET_KEY = os.getenv(\"HMAC_SECRET_KEY\", \"sua_chave_hmac_aqui\")\n",
    "\n",
    "def verify_hmac_signature(body: dict, received_signature: str) -> bool:\n",
    "    \"\"\"\n",
    "    Verifica a assinatura HMAC da requisição recebida.\n",
    "    \"\"\"\n",
    "    body_str = json.dumps(body, separators=(',', ':'), ensure_ascii=False)\n",
    "    calculated_signature = hmac.new(\n",
    "        HMAC_SECRET_KEY.encode(), body_str.encode(), hashlib.sha256\n",
    "    ).hexdigest()\n",
    "    \n",
    "    return hmac.compare_digest(calculated_signature, received_signature)\n",
    "\n",
    "@app.post(\"/handshake\")\n",
    "async def handshake(request: Request):\n",
    "    \"\"\"\n",
    "    Endpoint de Handshake para validar transações recebidas da BMP.\n",
    "    \"\"\"\n",
    "    try:\n",
    "        headers = request.headers\n",
    "        body = await request.json()\n",
    "\n",
    "        # Obtém a assinatura HMAC enviada pela BMP\n",
    "        received_signature = headers.get(\"X-HMAC-Signature\")\n",
    "        if not received_signature:\n",
    "            raise HTTPException(status_code=400, detail=\"HMAC signature missing\")\n",
    "\n",
    "        # Verifica a assinatura HMAC\n",
    "        if not verify_hmac_signature(body, received_signature):\n",
    "            raise HTTPException(status_code=403, detail=\"Invalid HMAC signature\")\n",
    "\n",
    "        # Se passou na verificação, retorna sucesso\n",
    "        return {\"status\": \"200 OK\", \"message\": \"Handshake validado\"}\n",
    "\n",
    "    except Exception as e:\n",
    "        raise HTTPException(status_code=400, detail=str(e))\n",
    "\n"
   ]
  }
 ],
 "metadata": {
  "kernelspec": {
   "display_name": ".venv",
   "language": "python",
   "name": "python3"
  },
  "language_info": {
   "codemirror_mode": {
    "name": "ipython",
    "version": 3
   },
   "file_extension": ".py",
   "mimetype": "text/x-python",
   "name": "python",
   "nbconvert_exporter": "python",
   "pygments_lexer": "ipython3",
   "version": "3.13.2"
  }
 },
 "nbformat": 4,
 "nbformat_minor": 2
}
